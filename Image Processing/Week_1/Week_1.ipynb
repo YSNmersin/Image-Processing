{
  "nbformat": 4,
  "nbformat_minor": 0,
  "metadata": {
    "colab": {
      "provenance": [],
      "toc_visible": true,
      "authorship_tag": "ABX9TyPFMGpH+65eWV2EQIVO9Ru7"
    },
    "kernelspec": {
      "name": "python3",
      "display_name": "Python 3"
    },
    "language_info": {
      "name": "python"
    }
  },
  "cells": [
    {
      "cell_type": "code",
      "source": [
        "import numpy as np\n",
        "A = np.array([[1,2,3],[3,4,5]])\n",
        "print(A)\n"
      ],
      "metadata": {
        "colab": {
          "base_uri": "https://localhost:8080/"
        },
        "id": "R8JiMnOv3xfq",
        "outputId": "978932a8-504c-4c08-ccb2-bab7229d6c65"
      },
      "execution_count": 2,
      "outputs": [
        {
          "output_type": "stream",
          "name": "stdout",
          "text": [
            "[[1 2 3]\n",
            " [3 4 5]]\n"
          ]
        }
      ]
    },
    {
      "cell_type": "code",
      "source": [
        "array =np.zeros( (2,3) )\n",
        "print(array)"
      ],
      "metadata": {
        "colab": {
          "base_uri": "https://localhost:8080/"
        },
        "id": "SZ9gh1OAUJ2C",
        "outputId": "d317d774-eb89-43f7-c1f0-0c5d23e02009"
      },
      "execution_count": 3,
      "outputs": [
        {
          "output_type": "stream",
          "name": "stdout",
          "text": [
            "[[0. 0. 0.]\n",
            " [0. 0. 0.]]\n"
          ]
        }
      ]
    },
    {
      "cell_type": "code",
      "source": [
        "array =np.ones( (1,5) )\n",
        "print(array)\n"
      ],
      "metadata": {
        "colab": {
          "base_uri": "https://localhost:8080/"
        },
        "id": "a5cD7SZ9UMDu",
        "outputId": "2d739a29-8592-44bf-fb73-2763c0ec6f25"
      },
      "execution_count": 4,
      "outputs": [
        {
          "output_type": "stream",
          "name": "stdout",
          "text": [
            "[[1. 1. 1. 1. 1.]]\n"
          ]
        }
      ]
    },
    {
      "cell_type": "code",
      "source": [
        "n = int(input(\"Kac Adet Sayi Girilecek: \"))\n",
        "a = []\n",
        "for i in range(0,n):\n",
        "    elem = int(input(\"Sayi Giriniz: \"))\n",
        "    a.append(elem)\n",
        "avg = sum(a) / n\n",
        "print(\"Girilen Sayilarin Ortalamasi: \", round(avg,2))"
      ],
      "metadata": {
        "colab": {
          "base_uri": "https://localhost:8080/"
        },
        "id": "yviQeWnGUOxw",
        "outputId": "bd82fb06-e936-4178-cbd1-a78b90e6527c"
      },
      "execution_count": 5,
      "outputs": [
        {
          "output_type": "stream",
          "name": "stdout",
          "text": [
            "Kac Adet Sayi Girilecek: 3\n",
            "Sayiyi Girin: 15\n",
            "Sayiyi Girin: 20\n",
            "Sayiyi Girin: 30\n",
            "Girilen Sayilarin Ortalamasi:  21.67\n"
          ]
        }
      ]
    }
  ]
}